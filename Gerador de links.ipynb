{
 "cells": [
  {
   "cell_type": "markdown",
   "id": "9a981635",
   "metadata": {},
   "source": [
    "## Bibliotecas"
   ]
  },
  {
   "cell_type": "code",
   "execution_count": 1,
   "id": "358b7ea5",
   "metadata": {},
   "outputs": [],
   "source": [
    "import urllib3\n",
    "from bs4 import BeautifulSoup\n",
    "from urllib.parse import urljoin"
   ]
  },
  {
   "cell_type": "markdown",
   "id": "23eab5fc",
   "metadata": {},
   "source": [
    "## Função para gerar links de uma página"
   ]
  },
  {
   "cell_type": "code",
   "execution_count": 23,
   "id": "5ea1a8ce",
   "metadata": {},
   "outputs": [],
   "source": [
    "def gerarLinks(url_page):\n",
    "    \n",
    "    urllib3.disable_warnings(urllib3.exceptions.InsecureRequestWarning)\n",
    "    http = urllib3.PoolManager()\n",
    "    resultados = []\n",
    "    \n",
    "    try:\n",
    "        page_data = http.request('GET', url_page)\n",
    "    except:\n",
    "        print(\"Error: \" + url_page)\n",
    "\n",
    "\n",
    "    soup = BeautifulSoup(page_data.data, \"xml\")\n",
    "\n",
    "    links = soup.find_all('a')\n",
    "    counter = 0\n",
    "\n",
    "    for link in links:\n",
    "\n",
    "        if(\"href\" in link.attrs):\n",
    "            url = urljoin(url_page, str(link.get('href')))\n",
    "\n",
    "            if url.find(\"'\") != -1:\n",
    "                continue\n",
    "\n",
    "            url = url.split(\"#\")[0]\n",
    "            resultados.append(url)\n",
    "            counter += 1\n",
    "            \n",
    "    for res in resultados:\n",
    "        print(res)\n",
    "        \n",
    "    print(\"Number of links: \" +  str(counter))"
   ]
  },
  {
   "cell_type": "code",
   "execution_count": 24,
   "id": "69e005c2",
   "metadata": {},
   "outputs": [
    {
     "name": "stdout",
     "output_type": "stream",
     "text": [
      "http://cidadesmg.com.br/portaltransparencia/faces/user/portal.xhtml?Param=PMJanauba\n",
      "http://cidadesmg.com.br/portaltransparencia/faces/user/despesas.xhtml?Param=PMJanauba\n",
      "http://cidadesmg.com.br/portaltransparencia/faces/user/folha.xhtml?Param=PMJanauba\n",
      "http://cidadesmg.com.br/portaltransparencia/faces/user/receita.xhtml?Param=PMJanauba\n",
      "http://cidadesmg.com.br/portaltransparencia/faces/user/lrf.xhtml?Param=PMJanauba\n",
      "http://cidadesmg.com.br/portaltransparencia/faces/user/licitacao.xhtml?Param=PMJanauba\n",
      "http://cidadesmg.com.br/portaltransparencia/faces/user/orcamento.xhtml?Param=PMJanauba\n",
      "http://cidadesmg.com.br/portaltransparencia/faces/user/resto.xhtml?Param=PMJanauba\n",
      "http://cidadesmg.com.br/portaltransparencia/faces/user/pcontas.xhtml?Param=PMJanauba\n",
      "http://cidadesmg.com.br/portaltransparencia/faces/user/outros.xhtml?Param=PMJanauba\n",
      "http://cidadesmg.com.br/portaltransparencia/faces/user/diariasDeViagem.xhtml?Param=PMJanauba\n",
      "http://cidadesmg.com.br/portaltransparencia/faces/user/convenios.xhtml?Param=PMJanauba\n",
      "http://cidadesmg.com.br/portaltransparencia/faces/user/covid19.xhtml?Param=PMJanauba\n",
      "http://cidadesmg.com.br/portaltransparencia/faces/user/despesas.xhtml?Param=PMJanauba\n",
      "http://cidadesmg.com.br/portaltransparencia/faces/user/folha.xhtml?Param=PMJanauba\n",
      "http://cidadesmg.com.br/portaltransparencia/faces/user/licitacao.xhtml?Param=PMJanauba\n",
      "http://cidadesmg.com.br/portaltransparencia/faces/user/orcamento.xhtml?Param=PMJanauba\n",
      "http://cidadesmg.com.br/portaltransparencia/faces/user/outros.xhtml?Param=PMJanauba\n",
      "http://cidadesmg.com.br/portaltransparencia/faces/user/receita.xhtml?Param=PMJanauba\n",
      "http://cidadesmg.com.br/portaltransparencia/faces/user/lrf.xhtml?Param=PMJanauba\n",
      "http://cidadesmg.com.br/portaltransparencia/faces/user/pcontas.xhtml?Param=PMJanauba\n",
      "http://cidadesmg.com.br/portaltransparencia/faces/user/oPortal.xhtml\n",
      "http://cidadesmg.com.br/portaltransparencia/faces/admin/admin.xhtml?Param=PMJanauba\n",
      "Number of links: 23\n"
     ]
    }
   ],
   "source": [
    "gerarLinks(\"http://cidadesmg.com.br/portaltransparencia/faces/user/portal.xhtml?Param=PMJanauba\")"
   ]
  },
  {
   "cell_type": "code",
   "execution_count": null,
   "id": "ded5ca56",
   "metadata": {},
   "outputs": [],
   "source": []
  }
 ],
 "metadata": {
  "kernelspec": {
   "display_name": "Python 3 (ipykernel)",
   "language": "python",
   "name": "python3"
  },
  "language_info": {
   "codemirror_mode": {
    "name": "ipython",
    "version": 3
   },
   "file_extension": ".py",
   "mimetype": "text/x-python",
   "name": "python",
   "nbconvert_exporter": "python",
   "pygments_lexer": "ipython3",
   "version": "3.12.3"
  }
 },
 "nbformat": 4,
 "nbformat_minor": 5
}
