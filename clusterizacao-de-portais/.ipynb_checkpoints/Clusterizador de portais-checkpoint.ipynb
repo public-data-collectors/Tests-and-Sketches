{
 "cells": [
  {
   "cell_type": "markdown",
   "id": "6d84778d",
   "metadata": {},
   "source": [
    "## Bibliotecas"
   ]
  },
  {
   "cell_type": "code",
   "execution_count": null,
   "id": "5628afd8",
   "metadata": {},
   "outputs": [],
   "source": [
    "import os\n",
    "import time\n",
    "import urllib3\n",
    "import asyncio\n",
    "import time\n",
    "import pandas as pd\n",
    "\n",
    "from googlesearch import search\n",
    "from selenium import webdriver\n",
    "from selenium.webdriver.chrome.options import Options\n",
    "from selenium.webdriver.common.by import By\n",
    "from selenium.webdriver.support.select import Select\n",
    "from selenium.common.exceptions import NoSuchElementException, TimeoutException, StaleElementReferenceException, ElementNotInteractableException\n",
    "\n",
    "from playwright.async_api import async_playwright\n",
    "from bs4 import BeautifulSoup\n",
    "from urllib.parse import urljoin"
   ]
  },
  {
   "cell_type": "markdown",
   "id": "bd8f1565",
   "metadata": {},
   "source": [
    "## Leitura dos dados"
   ]
  },
  {
   "cell_type": "code",
   "execution_count": 12,
   "id": "a1760ace",
   "metadata": {},
   "outputs": [
    {
     "name": "stdout",
     "output_type": "stream",
     "text": [
      "['Abadia dos Dourados ', 'Abaeté ', 'Abre Campo ', 'Acaiaca ', 'Açucena ', 'Água Boa ', 'Água Comprida ', 'Aguanil ', 'Águas Formosas ', 'Águas Vermelhas '] \n",
      " ['Vespasiano ', 'Viçosa ', 'Vieiras ', 'Virgem da Lapa ', 'Virgínia ', 'Virginópolis ', 'Virgolândia ', 'Visconde do Rio Branco ', 'Volta Grande ', 'Wenceslau Braz ']\n"
     ]
    }
   ],
   "source": [
    "arq_cidades = open('cidades.txt', 'r')\n",
    "cidades = arq_cidades.read().split(\"\\n\")\n",
    "arq_cidades.close()\n",
    "print(cidades[:10], \"\\n\", cidades[-10:])"
   ]
  },
  {
   "cell_type": "code",
   "execution_count": 13,
   "id": "27af905f",
   "metadata": {},
   "outputs": [],
   "source": [
    "arq = open(\"links_prefeituras.txt\", 'a')\n",
    "arq.close()"
   ]
  },
  {
   "cell_type": "markdown",
   "id": "3a2fbfd9",
   "metadata": {},
   "source": [
    "## Gerar link de cada prefeitura"
   ]
  },
  {
   "cell_type": "code",
   "execution_count": 14,
   "id": "6bacb13e",
   "metadata": {},
   "outputs": [],
   "source": [
    "async def gerar_links_prefeituras(cidades):\n",
    "    \n",
    "    arq = open(\"links_prefeituras.txt\", 'a')\n",
    "    \n",
    "    playwright = await async_playwright().start()\n",
    "    browser = await playwright.chromium.launch(headless = False)\n",
    "    page = await browser.new_page()\n",
    "\n",
    "    await page.goto(\"https://www.google.com.br/\")\n",
    "\n",
    "    for cidade in cidades:\n",
    "\n",
    "        await page.goto(\"https://www.google.com.br/\")\n",
    "        await page.locator(\"[aria-label=\\\"Pesquisar\\\"]\").click()\n",
    "        await page.locator(\"[aria-label=\\\"Pesquisar\\\"]\").fill(cidade + \"prefeitura\" + \" mg\")\n",
    "        await page.locator(\"[aria-label=\\\"Pesquisar\\\"]\").press(\"Enter\")\n",
    "        await page.locator(\"div.g a\").first.click()\n",
    "        time.sleep(1)\n",
    "        \n",
    "        arq.write(page.url)\n",
    "        arq.write(\"\\n\")\n",
    "\n",
    "    arq.close()\n",
    "    await page.close()\n",
    "    await browser.close()"
   ]
  },
  {
   "cell_type": "code",
   "execution_count": 15,
   "id": "4fd6e67c",
   "metadata": {},
   "outputs": [],
   "source": [
    "loop = asyncio.get_event_loop()\n",
    "loop.create_task(gerar_links_prefeituras(cidades[:5]))"
   ]
  },
  {
   "cell_type": "code",
   "execution_count": 17,
   "id": "2f4fed54",
   "metadata": {},
   "outputs": [
    {
     "name": "stdout",
     "output_type": "stream",
     "text": [
      "['https://abadiadosdourados.mg.gov.br/novo/', 'https://abaete.mg.gov.br/', 'https://abrecampo.mg.gov.br/', 'https://acaiaca.mg.gov.br/', 'https://www.acucena.mg.gov.br/']\n"
     ]
    }
   ],
   "source": [
    "arq = open(\"links_prefeituras.txt\", 'r')\n",
    "links_prefeituras = arq.read().split(\"\\n\")\n",
    "arq.close()\n",
    "print(links_prefeituras[:5])"
   ]
  },
  {
   "cell_type": "markdown",
   "id": "aa139ad4",
   "metadata": {},
   "source": [
    "## Procurar pelo link do portal a partir do site da prefeitura"
   ]
  },
  {
   "cell_type": "code",
   "execution_count": 22,
   "id": "0975662f",
   "metadata": {},
   "outputs": [],
   "source": [
    "async def gerar_links_portais(links_prefeituras):\n",
    "    \n",
    "    templates = [\"adpmnet\", \"facil\", \"memory\", \"pm-\", \"portaltp\", \"portalcidadao\",\\\n",
    "                \"cidadesmg\"]\n",
    "    \n",
    "    playwright = await async_playwright().start()\n",
    "    browser = await playwright.chromium.launch(headless = False)\n",
    "    page = await browser.new_page()\n",
    "    \n",
    "    urls_portais = []\n",
    "    templates_portais = []\n",
    "    \n",
    "    for url in links_prefeituras:\n",
    "\n",
    "        temps = set()\n",
    "        resultados = set()\n",
    "\n",
    "        try:\n",
    "            await page.goto(url)\n",
    "            page_data = await page.content()\n",
    "\n",
    "        except:\n",
    "            \n",
    "            urls_portais.append(list(resultados))\n",
    "            templates_portais.append(list(temps)) \n",
    "            print(\"Error: \" + url)\n",
    "            continue\n",
    "            \n",
    "        soup = BeautifulSoup(page_data, \"xml\")\n",
    "        \n",
    "        for link in soup.find_all('a'):\n",
    "            \n",
    "            if(\"href\" in link.attrs):\n",
    "                url = urljoin(url, str(link.get('href')))\n",
    "\n",
    "            if url.find(\"'\") != -1:\n",
    "                continue\n",
    "\n",
    "            url = url.split(\"#\")[0]\n",
    "            \n",
    "            for temp in templates:\n",
    "                if temp in url:\n",
    "                    resultados.add(url)\n",
    "                    temps.add(temp)\n",
    "            \n",
    "        urls_portais.append(list(resultados))\n",
    "        templates_portais.append(list(temps))    \n",
    "            \n",
    "    await page.close()\n",
    "    await browser.close()\n",
    "\n",
    "    return urls_portais, templates_portais"
   ]
  },
  {
   "cell_type": "code",
   "execution_count": 47,
   "id": "42ba8ad0",
   "metadata": {},
   "outputs": [
    {
     "data": {
      "text/html": [
       "<div>\n",
       "<style scoped>\n",
       "    .dataframe tbody tr th:only-of-type {\n",
       "        vertical-align: middle;\n",
       "    }\n",
       "\n",
       "    .dataframe tbody tr th {\n",
       "        vertical-align: top;\n",
       "    }\n",
       "\n",
       "    .dataframe thead th {\n",
       "        text-align: right;\n",
       "    }\n",
       "</style>\n",
       "<table border=\"1\" class=\"dataframe\">\n",
       "  <thead>\n",
       "    <tr style=\"text-align: right;\">\n",
       "      <th></th>\n",
       "      <th>Município</th>\n",
       "      <th>Site Prefeitura</th>\n",
       "      <th>Site Portal</th>\n",
       "      <th>Template</th>\n",
       "    </tr>\n",
       "  </thead>\n",
       "  <tbody>\n",
       "    <tr>\n",
       "      <th>0</th>\n",
       "      <td>Abadia dos Dourados</td>\n",
       "      <td>https://abadiadosdourados.mg.gov.br/novo/</td>\n",
       "      <td>[]</td>\n",
       "      <td>[]</td>\n",
       "    </tr>\n",
       "    <tr>\n",
       "      <th>1</th>\n",
       "      <td>Abaeté</td>\n",
       "      <td>https://abaete.mg.gov.br/</td>\n",
       "      <td>[]</td>\n",
       "      <td>[]</td>\n",
       "    </tr>\n",
       "    <tr>\n",
       "      <th>2</th>\n",
       "      <td>Abre Campo</td>\n",
       "      <td>https://abrecampo.mg.gov.br/</td>\n",
       "      <td>['http://abrecampo-mg.portaltp.com.br/siafic',...</td>\n",
       "      <td>['portaltp', 'pm-']</td>\n",
       "    </tr>\n",
       "    <tr>\n",
       "      <th>3</th>\n",
       "      <td>Acaiaca</td>\n",
       "      <td>https://acaiaca.mg.gov.br/</td>\n",
       "      <td>[]</td>\n",
       "      <td>[]</td>\n",
       "    </tr>\n",
       "    <tr>\n",
       "      <th>4</th>\n",
       "      <td>Açucena</td>\n",
       "      <td>https://www.acucena.mg.gov.br/</td>\n",
       "      <td>['http://acucena.portalfacil.com.br/transparen...</td>\n",
       "      <td>['facil']</td>\n",
       "    </tr>\n",
       "  </tbody>\n",
       "</table>\n",
       "</div>"
      ],
      "text/plain": [
       "              Município                            Site Prefeitura  \\\n",
       "0  Abadia dos Dourados   https://abadiadosdourados.mg.gov.br/novo/   \n",
       "1               Abaeté                   https://abaete.mg.gov.br/   \n",
       "2           Abre Campo                https://abrecampo.mg.gov.br/   \n",
       "3              Acaiaca                  https://acaiaca.mg.gov.br/   \n",
       "4              Açucena              https://www.acucena.mg.gov.br/   \n",
       "\n",
       "                                         Site Portal             Template  \n",
       "0                                                 []                   []  \n",
       "1                                                 []                   []  \n",
       "2  ['http://abrecampo-mg.portaltp.com.br/siafic',...  ['portaltp', 'pm-']  \n",
       "3                                                 []                   []  \n",
       "4  ['http://acucena.portalfacil.com.br/transparen...            ['facil']  "
      ]
     },
     "execution_count": 47,
     "metadata": {},
     "output_type": "execute_result"
    }
   ],
   "source": [
    "df = pd.read_csv('tabela.csv', sep=\";\")\n",
    "df.head()"
   ]
  },
  {
   "cell_type": "markdown",
   "id": "08a9c424",
   "metadata": {},
   "source": [
    "### Teste: usando googlesearch"
   ]
  },
  {
   "cell_type": "code",
   "execution_count": 20,
   "id": "19b743ab",
   "metadata": {},
   "outputs": [],
   "source": [
    "def gerar_links_prefeituras(cidades):\n",
    "    \n",
    "    busca = list(search(cidade + \"prefeitura mg\" + \" \", num_results=5))\n",
    "\n",
    "    return busca[0]"
   ]
  },
  {
   "cell_type": "code",
   "execution_count": 27,
   "id": "f3b2cee3",
   "metadata": {},
   "outputs": [
    {
     "name": "stdout",
     "output_type": "stream",
     "text": [
      "https://abadiadosdourados.mg.gov.br/novo/\n",
      "https://abaete.mg.gov.br/\n",
      "https://abrecampo.mg.gov.br/\n",
      "https://www.aguacomprida.mg.gov.br/\n",
      "https://www.aguanil.mg.gov.br/\n",
      "https://www.aguasformosas.mg.gov.br/\n",
      "https://www.aguasvermelhas.mg.gov.br/\n",
      "https://pmsa.mg.gov.br/\n",
      "https://aiuruoca.mg.gov.br/\n",
      "https://www.alagoa.mg.gov.br/\n",
      "http://www.albertina.mg.gov.br/\n",
      "https://alemparaiba.mg.gov.br/\n",
      "http://www.alfenas.mg.gov.br/\n",
      "https://alfredovasconcelos.mg.gov.br/\n",
      "https://www.almenara.mg.gov.br/\n",
      "https://pt-br.facebook.com/prefeituradealpercata/\n",
      "https://alpinopolis.mg.gov.br/\n",
      "https://www.alterosa.mg.gov.br/\n",
      "https://www.altocaparao.mg.gov.br/\n",
      "https://www.altojequitiba.mg.gov.br/\n",
      "https://www.portal.altoriodoce.mg.gov.br/\n",
      "https://www.alvarenga.mg.gov.br/servidores\n",
      "https://pt-br.facebook.com/PrefeituraMunicipaldeAlvinopolis/\n",
      "https://www.alvoradademinas.mg.gov.br/\n",
      "https://amparodoserra.mg.gov.br/\n",
      "http://www.andradas.mg.gov.br/\n",
      "https://andrelandia.mg.gov.br/site/\n",
      "https://pt-br.facebook.com/pmAngelandia/\n",
      "https://municipioantoniocarlos.mg.gov.br/2018/\n",
      "https://www.antoniodias.mg.gov.br/\n",
      "https://www.antoniopradodeminas.mg.gov.br/\n",
      "https://www.aracai.mg.gov.br/servicos\n",
      "https://aracitaba.mg.gov.br/\n",
      "https://www.prefeituras.org/prefeitura-municipal-de-aracuai-mg/\n",
      "https://www.araguari.mg.gov.br/\n",
      "https://arantina.mg.gov.br/\n",
      "https://araponga.mg.gov.br/\n",
      "https://www.arapora.mg.gov.br/\n",
      "https://arapua.mg.gov.br/\n",
      "https://www.araujos.mg.gov.br/\n",
      "https://www.araxa.mg.gov.br/\n",
      "https://www.arceburgo.mg.gov.br/\n",
      "https://www.arcos.mg.gov.br/\n"
     ]
    },
    {
     "ename": "KeyboardInterrupt",
     "evalue": "",
     "output_type": "error",
     "traceback": [
      "\u001b[0;31m---------------------------------------------------------------------------\u001b[0m",
      "\u001b[0;31mKeyboardInterrupt\u001b[0m                         Traceback (most recent call last)",
      "Input \u001b[0;32mIn [27]\u001b[0m, in \u001b[0;36m<cell line: 1>\u001b[0;34m()\u001b[0m\n\u001b[1;32m      1\u001b[0m \u001b[38;5;28;01mfor\u001b[39;00m cidade \u001b[38;5;129;01min\u001b[39;00m cidades:\n\u001b[0;32m----> 2\u001b[0m     \u001b[38;5;28mprint\u001b[39m(\u001b[43mgerar_links_prefeituras\u001b[49m\u001b[43m(\u001b[49m\u001b[43mcidade\u001b[49m\u001b[43m)\u001b[49m)\n",
      "Input \u001b[0;32mIn [20]\u001b[0m, in \u001b[0;36mgerar_links_prefeituras\u001b[0;34m(cidades)\u001b[0m\n\u001b[1;32m      1\u001b[0m \u001b[38;5;28;01mdef\u001b[39;00m \u001b[38;5;21mgerar_links_prefeituras\u001b[39m(cidades):\n\u001b[0;32m----> 4\u001b[0m     busca \u001b[38;5;241m=\u001b[39m \u001b[38;5;28;43mlist\u001b[39;49m\u001b[43m(\u001b[49m\u001b[43msearch\u001b[49m\u001b[43m(\u001b[49m\u001b[43mcidade\u001b[49m\u001b[43m \u001b[49m\u001b[38;5;241;43m+\u001b[39;49m\u001b[43m \u001b[49m\u001b[38;5;124;43m\"\u001b[39;49m\u001b[38;5;124;43mprefeitura mg\u001b[39;49m\u001b[38;5;124;43m\"\u001b[39;49m\u001b[43m \u001b[49m\u001b[38;5;241;43m+\u001b[39;49m\u001b[43m \u001b[49m\u001b[38;5;124;43m\"\u001b[39;49m\u001b[38;5;124;43m \u001b[39;49m\u001b[38;5;124;43m\"\u001b[39;49m\u001b[43m,\u001b[49m\u001b[43m \u001b[49m\u001b[43mnum_results\u001b[49m\u001b[38;5;241;43m=\u001b[39;49m\u001b[38;5;241;43m5\u001b[39;49m\u001b[43m)\u001b[49m\u001b[43m)\u001b[49m\n\u001b[1;32m      6\u001b[0m     \u001b[38;5;28;01mreturn\u001b[39;00m busca[\u001b[38;5;241m0\u001b[39m]\n",
      "File \u001b[0;32m~/.local/lib/python3.8/site-packages/googlesearch/__init__.py:48\u001b[0m, in \u001b[0;36msearch\u001b[0;34m(term, num_results, lang, proxy, advanced)\u001b[0m\n\u001b[1;32m     45\u001b[0m resp \u001b[38;5;241m=\u001b[39m _req(escaped_term, num_results\u001b[38;5;241m-\u001b[39mstart, lang, start, proxies)\n\u001b[1;32m     47\u001b[0m \u001b[38;5;66;03m# Parse\u001b[39;00m\n\u001b[0;32m---> 48\u001b[0m soup \u001b[38;5;241m=\u001b[39m \u001b[43mBeautifulSoup\u001b[49m\u001b[43m(\u001b[49m\u001b[43mresp\u001b[49m\u001b[38;5;241;43m.\u001b[39;49m\u001b[43mtext\u001b[49m\u001b[43m,\u001b[49m\u001b[43m \u001b[49m\u001b[38;5;124;43m'\u001b[39;49m\u001b[38;5;124;43mhtml.parser\u001b[39;49m\u001b[38;5;124;43m'\u001b[39;49m\u001b[43m)\u001b[49m\n\u001b[1;32m     49\u001b[0m result_block \u001b[38;5;241m=\u001b[39m soup\u001b[38;5;241m.\u001b[39mfind_all(\u001b[38;5;124m'\u001b[39m\u001b[38;5;124mdiv\u001b[39m\u001b[38;5;124m'\u001b[39m, attrs\u001b[38;5;241m=\u001b[39m{\u001b[38;5;124m'\u001b[39m\u001b[38;5;124mclass\u001b[39m\u001b[38;5;124m'\u001b[39m: \u001b[38;5;124m'\u001b[39m\u001b[38;5;124mg\u001b[39m\u001b[38;5;124m'\u001b[39m})\n\u001b[1;32m     50\u001b[0m \u001b[38;5;28;01mfor\u001b[39;00m result \u001b[38;5;129;01min\u001b[39;00m result_block:\n\u001b[1;32m     51\u001b[0m     \u001b[38;5;66;03m# Find link, title, description\u001b[39;00m\n",
      "File \u001b[0;32m~/.local/lib/python3.8/site-packages/bs4/__init__.py:348\u001b[0m, in \u001b[0;36mBeautifulSoup.__init__\u001b[0;34m(self, markup, features, builder, parse_only, from_encoding, exclude_encodings, element_classes, **kwargs)\u001b[0m\n\u001b[1;32m    346\u001b[0m \u001b[38;5;28mself\u001b[39m\u001b[38;5;241m.\u001b[39mreset()\n\u001b[1;32m    347\u001b[0m \u001b[38;5;28;01mtry\u001b[39;00m:\n\u001b[0;32m--> 348\u001b[0m     \u001b[38;5;28;43mself\u001b[39;49m\u001b[38;5;241;43m.\u001b[39;49m\u001b[43m_feed\u001b[49m\u001b[43m(\u001b[49m\u001b[43m)\u001b[49m\n\u001b[1;32m    349\u001b[0m     success \u001b[38;5;241m=\u001b[39m \u001b[38;5;28;01mTrue\u001b[39;00m\n\u001b[1;32m    350\u001b[0m     \u001b[38;5;28;01mbreak\u001b[39;00m\n",
      "File \u001b[0;32m~/.local/lib/python3.8/site-packages/bs4/__init__.py:434\u001b[0m, in \u001b[0;36mBeautifulSoup._feed\u001b[0;34m(self)\u001b[0m\n\u001b[1;32m    431\u001b[0m \u001b[38;5;66;03m# Convert the document to Unicode.\u001b[39;00m\n\u001b[1;32m    432\u001b[0m \u001b[38;5;28mself\u001b[39m\u001b[38;5;241m.\u001b[39mbuilder\u001b[38;5;241m.\u001b[39mreset()\n\u001b[0;32m--> 434\u001b[0m \u001b[38;5;28;43mself\u001b[39;49m\u001b[38;5;241;43m.\u001b[39;49m\u001b[43mbuilder\u001b[49m\u001b[38;5;241;43m.\u001b[39;49m\u001b[43mfeed\u001b[49m\u001b[43m(\u001b[49m\u001b[38;5;28;43mself\u001b[39;49m\u001b[38;5;241;43m.\u001b[39;49m\u001b[43mmarkup\u001b[49m\u001b[43m)\u001b[49m\n\u001b[1;32m    435\u001b[0m \u001b[38;5;66;03m# Close out any unfinished strings and close all the open tags.\u001b[39;00m\n\u001b[1;32m    436\u001b[0m \u001b[38;5;28mself\u001b[39m\u001b[38;5;241m.\u001b[39mendData()\n",
      "File \u001b[0;32m~/.local/lib/python3.8/site-packages/bs4/builder/_htmlparser.py:377\u001b[0m, in \u001b[0;36mHTMLParserTreeBuilder.feed\u001b[0;34m(self, markup)\u001b[0m\n\u001b[1;32m    375\u001b[0m parser\u001b[38;5;241m.\u001b[39msoup \u001b[38;5;241m=\u001b[39m \u001b[38;5;28mself\u001b[39m\u001b[38;5;241m.\u001b[39msoup\n\u001b[1;32m    376\u001b[0m \u001b[38;5;28;01mtry\u001b[39;00m:\n\u001b[0;32m--> 377\u001b[0m     \u001b[43mparser\u001b[49m\u001b[38;5;241;43m.\u001b[39;49m\u001b[43mfeed\u001b[49m\u001b[43m(\u001b[49m\u001b[43mmarkup\u001b[49m\u001b[43m)\u001b[49m\n\u001b[1;32m    378\u001b[0m     parser\u001b[38;5;241m.\u001b[39mclose()\n\u001b[1;32m    379\u001b[0m \u001b[38;5;28;01mexcept\u001b[39;00m HTMLParseError \u001b[38;5;28;01mas\u001b[39;00m e:\n",
      "File \u001b[0;32m/usr/lib/python3.8/html/parser.py:111\u001b[0m, in \u001b[0;36mHTMLParser.feed\u001b[0;34m(self, data)\u001b[0m\n\u001b[1;32m    105\u001b[0m \u001b[38;5;124mr\u001b[39m\u001b[38;5;124;03m\"\"\"Feed data to the parser.\u001b[39;00m\n\u001b[1;32m    106\u001b[0m \n\u001b[1;32m    107\u001b[0m \u001b[38;5;124;03mCall this as often as you want, with as little or as much text\u001b[39;00m\n\u001b[1;32m    108\u001b[0m \u001b[38;5;124;03mas you want (may include '\\n').\u001b[39;00m\n\u001b[1;32m    109\u001b[0m \u001b[38;5;124;03m\"\"\"\u001b[39;00m\n\u001b[1;32m    110\u001b[0m \u001b[38;5;28mself\u001b[39m\u001b[38;5;241m.\u001b[39mrawdata \u001b[38;5;241m=\u001b[39m \u001b[38;5;28mself\u001b[39m\u001b[38;5;241m.\u001b[39mrawdata \u001b[38;5;241m+\u001b[39m data\n\u001b[0;32m--> 111\u001b[0m \u001b[38;5;28;43mself\u001b[39;49m\u001b[38;5;241;43m.\u001b[39;49m\u001b[43mgoahead\u001b[49m\u001b[43m(\u001b[49m\u001b[38;5;241;43m0\u001b[39;49m\u001b[43m)\u001b[49m\n",
      "File \u001b[0;32m/usr/lib/python3.8/html/parser.py:199\u001b[0m, in \u001b[0;36mHTMLParser.goahead\u001b[0;34m(self, end)\u001b[0m\n\u001b[1;32m    197\u001b[0m         \u001b[38;5;28;01melse\u001b[39;00m:\n\u001b[1;32m    198\u001b[0m             \u001b[38;5;28mself\u001b[39m\u001b[38;5;241m.\u001b[39mhandle_data(rawdata[i:k])\n\u001b[0;32m--> 199\u001b[0m     i \u001b[38;5;241m=\u001b[39m \u001b[38;5;28;43mself\u001b[39;49m\u001b[38;5;241;43m.\u001b[39;49m\u001b[43mupdatepos\u001b[49m\u001b[43m(\u001b[49m\u001b[43mi\u001b[49m\u001b[43m,\u001b[49m\u001b[43m \u001b[49m\u001b[43mk\u001b[49m\u001b[43m)\u001b[49m\n\u001b[1;32m    200\u001b[0m \u001b[38;5;28;01melif\u001b[39;00m startswith(\u001b[38;5;124m\"\u001b[39m\u001b[38;5;124m&#\u001b[39m\u001b[38;5;124m\"\u001b[39m, i):\n\u001b[1;32m    201\u001b[0m     match \u001b[38;5;241m=\u001b[39m charref\u001b[38;5;241m.\u001b[39mmatch(rawdata, i)\n",
      "File \u001b[0;32m/usr/lib/python3.8/_markupbase.py:48\u001b[0m, in \u001b[0;36mParserBase.updatepos\u001b[0;34m(self, i, j)\u001b[0m\n\u001b[1;32m     42\u001b[0m     \u001b[38;5;28;01mreturn\u001b[39;00m \u001b[38;5;28mself\u001b[39m\u001b[38;5;241m.\u001b[39mlineno, \u001b[38;5;28mself\u001b[39m\u001b[38;5;241m.\u001b[39moffset\n\u001b[1;32m     44\u001b[0m \u001b[38;5;66;03m# Internal -- update line number and offset.  This should be\u001b[39;00m\n\u001b[1;32m     45\u001b[0m \u001b[38;5;66;03m# called for each piece of data exactly once, in order -- in other\u001b[39;00m\n\u001b[1;32m     46\u001b[0m \u001b[38;5;66;03m# words the concatenation of all the input strings to this\u001b[39;00m\n\u001b[1;32m     47\u001b[0m \u001b[38;5;66;03m# function should be exactly the entire input.\u001b[39;00m\n\u001b[0;32m---> 48\u001b[0m \u001b[38;5;28;01mdef\u001b[39;00m \u001b[38;5;21mupdatepos\u001b[39m(\u001b[38;5;28mself\u001b[39m, i, j):\n\u001b[1;32m     49\u001b[0m     \u001b[38;5;28;01mif\u001b[39;00m i \u001b[38;5;241m>\u001b[39m\u001b[38;5;241m=\u001b[39m j:\n\u001b[1;32m     50\u001b[0m         \u001b[38;5;28;01mreturn\u001b[39;00m j\n",
      "\u001b[0;31mKeyboardInterrupt\u001b[0m: "
     ]
    }
   ],
   "source": [
    "arq = open(\"links_prefeituras_search.txt\", 'a')\n",
    "\n",
    "for cidade in cidades:\n",
    "        \n",
    "    try:\n",
    "        arq.write(gerar_links_prefeituras(cidade))\n",
    "        arq.write(\"\\n\")\n",
    "        \n",
    "    except:\n",
    "        \n",
    "        arq.close()\n",
    "\n",
    "arq.close()"
   ]
  }
 ],
 "metadata": {
  "kernelspec": {
   "display_name": "Python 3 (ipykernel)",
   "language": "python",
   "name": "python3"
  },
  "language_info": {
   "codemirror_mode": {
    "name": "ipython",
    "version": 3
   },
   "file_extension": ".py",
   "mimetype": "text/x-python",
   "name": "python",
   "nbconvert_exporter": "python",
   "pygments_lexer": "ipython3",
   "version": "3.12.3"
  }
 },
 "nbformat": 4,
 "nbformat_minor": 5
}
